{
 "cells": [
  {
   "cell_type": "code",
   "execution_count": null,
   "metadata": {},
   "outputs": [],
   "source": [
    "import imagehash\n",
    "from PIL import Image\n",
    "import os \n",
    "import numpy as np\n",
    "import pandas as pd\n",
    "from pathlib import Path\n",
    "import glob\n",
    "from tqdm import tqdm\n",
    "import pickle\n",
    "import matplotlib.pyplot as plt\n",
    "import cv2"
   ]
  },
  {
   "cell_type": "code",
   "execution_count": null,
   "metadata": {},
   "outputs": [],
   "source": [
    "# CONSTANTS AND PATHS\n",
    "MERGE_DATA_PATH = './train/'\n",
    "NEW_DATA_PATH   = \"../cassava-leaf-disease-classification/train_images/\"\n",
    "OLD_DATA_PATH   = \"../cassava-disease_old/\"\n",
    "ORDER           = True\n",
    "NOT_SAVED_YET   = False"
   ]
  },
  {
   "cell_type": "code",
   "execution_count": null,
   "metadata": {},
   "outputs": [],
   "source": [
    "# BASED ON https://github.com/JohannesBuchner/imagehash/blob/master/find_similar_images.py\n",
    "if NOT_SAVED_YET:\n",
    "    images = {}\n",
    "    if ORDER:\n",
    "        for img in tqdm(glob.glob(MERGE_DATA_PATH + '[0-9]*'), position=0, leave=True):\n",
    "            try:\n",
    "                hash = imagehash.average_hash(Image.open(img))\n",
    "            except Exception as e:\n",
    "                print('Problem:', e, 'with', img)\n",
    "                continue\n",
    "\n",
    "            images[hash] = images.get(hash, []) + [img]\n",
    "\n",
    "        print('FINISHED FOR NEW DATA SET')\n",
    "\n",
    "        for img in tqdm(glob.glob(MERGE_DATA_PATH + 'train*'), position=0, leave=True):\n",
    "            try:\n",
    "                hash = imagehash.average_hash(Image.open(img))\n",
    "            except Exception as e:\n",
    "                print('Problem:', e, 'with', img)\n",
    "                continue\n",
    "\n",
    "            images[hash] = images.get(hash, []) + [img]\n",
    "\n",
    "        print('WENT THROUGH OLD DATA SET')\n",
    "    else:\n",
    "        for img in tqdm(glob.glob(MERGE_DATA_PATH + '*.jpg'), position=0, leave=True):\n",
    "            try:\n",
    "                hash = imagehash.average_hash(Image.open(img))\n",
    "            except Exception as e:\n",
    "                print('Problem:', e, 'with', img)\n",
    "                continue\n",
    "            if hash in images:\n",
    "                print(img, '  already exists as', ' '.join(images[hash]))\n",
    "            images[hash] = images.get(hash, []) + [img]\n",
    "\n",
    "    dupl_list = [value for value in images.values() if len(value) > 1]\n",
    "\n",
    "    with open('duplicate_list.txt', 'w') as f:\n",
    "        for item in dupl_list:\n",
    "            f.write(\"%s\\n\" % item)\n",
    "\n",
    "    with open('dupl_pickle.pkl', 'wb') as f:\n",
    "           pickle.dump(dupl_list, f)\n",
    "            \n",
    "else:\n",
    "    with open('dupl_pickle.pkl', 'rb') as f:\n",
    "           dupl_list = pickle.load(f)"
   ]
  },
  {
   "cell_type": "code",
   "execution_count": null,
   "metadata": {},
   "outputs": [],
   "source": [
    "for i, element in tqdm(enumerate(dupl_list), position=0, leave=True):\n",
    "    plt.figure(figsize=(20,50))\n",
    "    fig, axs = plt.subplots(1, len(element))\n",
    "    fig.suptitle(f'Line {i}')\n",
    "    for i, img_name in enumerate(element): \n",
    "        img = cv2.cvtColor(cv2.imread(img_name), cv2.COLOR_BGR2RGB)\n",
    "        axs[i].imshow(img)"
   ]
  },
  {
   "cell_type": "code",
   "execution_count": null,
   "metadata": {},
   "outputs": [],
   "source": [
    "lines_dropped = [elem for i, elem in enumerate(dupl_list) if i not in [87, 112, 119, 120, 121, 126, 140, 230, 232, 264]]\n",
    "strange_dups = [elem for i, elem in enumerate(dupl_list) if i in [87, 112, 119, 120, 121, 126, 140, 230, 232, 264]]"
   ]
  },
  {
   "cell_type": "code",
   "execution_count": null,
   "metadata": {},
   "outputs": [],
   "source": [
    "with open('dupl_pickle_lines_dropped.pkl', 'wb') as f:\n",
    "           pickle.dump(lines_dropped, f)"
   ]
  },
  {
   "cell_type": "code",
   "execution_count": null,
   "metadata": {},
   "outputs": [],
   "source": [
    "print(lines_dropped)"
   ]
  },
  {
   "cell_type": "code",
   "execution_count": null,
   "metadata": {},
   "outputs": [],
   "source": []
  }
 ],
 "metadata": {
  "kernelspec": {
   "display_name": "Python 3",
   "language": "python",
   "name": "python3"
  },
  "language_info": {
   "codemirror_mode": {
    "name": "ipython",
    "version": 3
   },
   "file_extension": ".py",
   "mimetype": "text/x-python",
   "name": "python",
   "nbconvert_exporter": "python",
   "pygments_lexer": "ipython3",
   "version": "3.6.8"
  }
 },
 "nbformat": 4,
 "nbformat_minor": 4
}
